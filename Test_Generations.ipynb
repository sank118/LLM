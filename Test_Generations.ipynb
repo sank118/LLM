{
  "nbformat": 4,
  "nbformat_minor": 0,
  "metadata": {
    "colab": {
      "provenance": [],
      "authorship_tag": "ABX9TyM5RuceCwvcKd1ORPGsJMno",
      "include_colab_link": true
    },
    "kernelspec": {
      "name": "python3",
      "display_name": "Python 3"
    },
    "language_info": {
      "name": "python"
    }
  },
  "cells": [
    {
      "cell_type": "markdown",
      "metadata": {
        "id": "view-in-github",
        "colab_type": "text"
      },
      "source": [
        "<a href=\"https://colab.research.google.com/github/sank118/LLM/blob/main/Test_Generations.ipynb\" target=\"_parent\"><img src=\"https://colab.research.google.com/assets/colab-badge.svg\" alt=\"Open In Colab\"/></a>"
      ]
    },
    {
      "cell_type": "code",
      "execution_count": null,
      "metadata": {
        "colab": {
          "base_uri": "https://localhost:8080/"
        },
        "id": "rYuO3JDyzjue",
        "outputId": "40789465-f1fd-4585-aa12-9f8a3daf9e0c"
      },
      "outputs": [
        {
          "output_type": "stream",
          "name": "stderr",
          "text": [
            "No model was supplied, defaulted to openai-community/gpt2 and revision 6c0e608 (https://huggingface.co/openai-community/gpt2).\n",
            "Using a pipeline without specifying a model name and revision in production is not recommended.\n",
            "Truncation was not explicitly activated but `max_length` is provided a specific value, please use `truncation=True` to explicitly truncate examples to max length. Defaulting to 'longest_first' truncation strategy. If you encode pairs of sequences (GLUE-style) with the tokenizer you can select this strategy more precisely by providing a specific strategy to `truncation`.\n",
            "Setting `pad_token_id` to `eos_token_id`:50256 for open-end generation.\n"
          ]
        },
        {
          "output_type": "stream",
          "name": "stdout",
          "text": [
            "The Gion neighborhood in Kyoto is famous for its Japanese tea farms, a place of quiet love when you need a place to relax and have a time. This is why the Gion neighborhood has no official name. Because there is no official Gion name in Japan, it has no meaning when compared to Kyoto's history. And as the names on this wiki mean, there is no official Gion name anywhere in Japan. Why? Because there were no gondolas in the Gion neighborhood until the 13th century.\n",
            "\n",
            "The streets are usually blocked to the east, but there are various types of shops on the sides of the street and along this bridge. The houses have wooden furniture in which the customers are brought to the home office. The house, on the other hand, has a large kitchen or bath and all of its windows, so the customers have no excuse for not coming to the house. Therefore, there were a lot of shops for a very short time. You really have\n"
          ]
        }
      ],
      "source": [
        "from transformers import pipeline\n",
        "llm = pipeline(\"text-generation\")\n",
        "prompt = \"The Gion neighborhood in Kyoto is famous for\"\n",
        "outputs = llm(prompt, max_length=200)\n",
        "print(outputs[0]['generated_text'])"
      ]
    }
  ]
}